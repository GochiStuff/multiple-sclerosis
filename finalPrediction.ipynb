{
  "cells": [
    {
      "cell_type": "code",
      "execution_count": null,
      "metadata": {
        "colab": {
          "base_uri": "https://localhost:8080/",
          "height": 1000
        },
        "id": "bNrHZ2lT--xI",
        "outputId": "20c10dc9-7343-475e-fa63-5de02b8b6ac1"
      },
      "outputs": [],
      "source": [
        "!pip install tensorflow==2.17.1 nibabel matplotlib scikit-learn faiss-cpu\n"
      ]
    },
    {
      "cell_type": "code",
      "execution_count": null,
      "metadata": {
        "id": "QCs5ndlL_d3r"
      },
      "outputs": [],
      "source": [
        "import os, glob, random, tempfile, requests\n",
        "import numpy as np\n",
        "import nibabel as nib\n",
        "import matplotlib.pyplot as plt\n",
        "import tensorflow as tf\n",
        "\n",
        "from tensorflow.keras.applications import InceptionV3\n",
        "from tensorflow.keras.models import Model\n",
        "from tensorflow.keras.layers import GlobalAveragePooling2D, Dense, Dropout\n",
        "\n",
        "from sklearn.model_selection import train_test_split\n",
        "from sklearn.metrics import roc_auc_score, classification_report, confusion_matrix\n",
        "from collections import Counter\n",
        "\n",
        "import faiss\n"
      ]
    },
    {
      "cell_type": "code",
      "execution_count": null,
      "metadata": {
        "colab": {
          "base_uri": "https://localhost:8080/"
        },
        "id": "4yvCj8ZJ_p94",
        "outputId": "d4318fad-482f-4b0f-a7c5-9111675c7643"
      },
      "outputs": [],
      "source": [
        "import os, requests\n",
        "\n",
        "base = (\"https://raw.githubusercontent.com/muschellij2/open_ms_data/\"\n",
        "        \"master/cross_sectional/coregistered_resampled\")\n",
        "\n",
        "patients = [f\"patient{i:02d}\" for i in range(1, 31)]\n",
        "\n",
        "modalities = {\n",
        "    \"FLAIR\": \"FLAIR.nii.gz\",\n",
        "    \"Brain Mask\": \"brainmask.nii.gz\",\n",
        "    \"Lesion Mask\": \"consensus_gt.nii.gz\"\n",
        "}\n",
        "\n",
        "out_dir = \"ms_data_resampled_labeled\"\n",
        "os.makedirs(out_dir, exist_ok=True)\n",
        "\n",
        "def download_and_log(url, out):\n",
        "    if os.path.exists(out):\n",
        "        print(\"↪ Already exists:\", out)\n",
        "        return True\n",
        "    r = requests.get(url, stream=True)\n",
        "    if r.ok:\n",
        "        with open(out, \"wb\") as f:\n",
        "            for chunk in r.iter_content(1 << 20):  # 1 MB chunks\n",
        "                f.write(chunk)\n",
        "        print(\"✅\", out)\n",
        "        return True\n",
        "    else:\n",
        "        print(\"❌ Failed:\", url, \"status:\", r.status_code)\n",
        "        return False\n",
        "\n",
        "downloaded = []\n",
        "for pid in patients:\n",
        "    success = True\n",
        "    for label, fname in modalities.items():\n",
        "        url = f\"{base}/{pid}/{fname}\"\n",
        "        out = os.path.join(out_dir, f\"{pid}_{label.replace(' ', '_')}.nii.gz\")\n",
        "        if not download_and_log(url, out):\n",
        "            success = False\n",
        "    if success:\n",
        "        downloaded.append(pid)\n",
        "\n",
        "print(f\"\\nDownload complete. Successful patients: {len(downloaded)} / {len(patients)}\")\n"
      ]
    },
    {
      "cell_type": "code",
      "execution_count": null,
      "metadata": {
        "colab": {
          "base_uri": "https://localhost:8080/"
        },
        "id": "gEj_YxyVFCC5",
        "outputId": "0838a3e2-5e4d-43b8-b403-ceba0eafe658"
      },
      "outputs": [],
      "source": [
        "DATA_DIR = \"ms_data_resampled_labeled\"\n",
        "patients = sorted(list({os.path.basename(p).split(\"_\")[0] for p in glob.glob(os.path.join(DATA_DIR, \"*_FLAIR.nii.gz\"))}))\n",
        "print(\"Patients found:\", len(patients))\n",
        "\n",
        "IMG_SIZE = (299, 299)\n",
        "SLICES_PER_PATIENT = 12\n",
        "\n",
        "def slice_indices_centered(n_slices, k=SLICES_PER_PATIENT):\n",
        "    mid = n_slices // 2\n",
        "    start = max(0, mid - k//2)\n",
        "    end = min(n_slices, start + k)\n",
        "    start = max(0, end - k)\n",
        "    return list(range(start, end))\n",
        "\n",
        "def preprocess_slice(slice_img):\n",
        "    s = slice_img.astype(np.float32)\n",
        "    mn, mx = np.percentile(s, 0.5), np.percentile(s, 99.5)\n",
        "    s = np.clip((s - mn) / max(mx - mn, 1e-6), 0, 1)\n",
        "    s = tf.image.resize(s[..., None], IMG_SIZE)\n",
        "    s = tf.image.grayscale_to_rgb(s)   # shape (299,299,3)\n",
        "    return s.numpy()\n",
        "\n",
        "slice_records = []\n",
        "for pid in patients:\n",
        "    flair_path = os.path.join(DATA_DIR, f\"{pid}_FLAIR.nii.gz\")\n",
        "    mask_path  = os.path.join(DATA_DIR, f\"{pid}_Lesion_Mask.nii.gz\")\n",
        "    if not (os.path.exists(flair_path) and os.path.exists(mask_path)):\n",
        "        continue\n",
        "    flair = nib.load(flair_path)\n",
        "    mask  = nib.load(mask_path)\n",
        "    nz = flair.shape[2]\n",
        "    idxs = slice_indices_centered(nz, SLICES_PER_PATIENT)\n",
        "    for z in idxs:\n",
        "        mask_slice = mask.get_fdata()[:, :, z]\n",
        "        label = 1 if np.count_nonzero(mask_slice) > 0 else 0\n",
        "        slice_records.append((pid, z, label))\n",
        "print(\"Total slices prepared (approx):\", len(slice_records))\n"
      ]
    },
    {
      "cell_type": "code",
      "execution_count": null,
      "metadata": {
        "colab": {
          "base_uri": "https://localhost:8080/"
        },
        "id": "RNH-he41FGlc",
        "outputId": "da027d5b-d534-4d09-b0dd-58024f264576"
      },
      "outputs": [],
      "source": [
        "random.seed(42)\n",
        "train_p, test_p = train_test_split(patients, test_size=0.2, random_state=42)\n",
        "train_p, val_p = train_test_split(train_p, test_size=0.2, random_state=42)\n",
        "print(\"Patients split -> train:\", len(train_p), \"val:\", len(val_p), \"test:\", len(test_p))\n",
        "\n",
        "def dataset_for_patients(pids, batch=16, augment=False, shuffle=True):\n",
        "    def gen():\n",
        "        for pid in pids:\n",
        "            flair_path = os.path.join(DATA_DIR, f\"{pid}_FLAIR.nii.gz\")\n",
        "            mask_path  = os.path.join(DATA_DIR, f\"{pid}_Lesion_Mask.nii.gz\")\n",
        "            flair = nib.load(flair_path).get_fdata()\n",
        "            mask  = nib.load(mask_path).get_fdata()\n",
        "            nz = flair.shape[2]\n",
        "            idxs = slice_indices_centered(nz, SLICES_PER_PATIENT)\n",
        "            for z in idxs:\n",
        "                s = preprocess_slice(flair[:, :, z])\n",
        "                lbl = 1 if np.count_nonzero(mask[:, :, z]) > 0 else 0\n",
        "                yield s.astype(np.float32), np.float32(lbl)\n",
        "    out_sig = (\n",
        "        tf.TensorSpec(shape=(IMG_SIZE[0], IMG_SIZE[1], 3), dtype=tf.float32),\n",
        "        tf.TensorSpec(shape=(), dtype=tf.float32)\n",
        "    )\n",
        "    ds = tf.data.Dataset.from_generator(gen, output_signature=out_sig)\n",
        "    if shuffle:\n",
        "        ds = ds.shuffle(1024, reshuffle_each_iteration=True)\n",
        "    if augment:\n",
        "        def aug(x, y):\n",
        "            x = tf.image.random_flip_left_right(x)\n",
        "            x = tf.image.random_flip_up_down(x)\n",
        "            x = tf.image.random_brightness(x, 0.05)\n",
        "            return x, y\n",
        "        ds = ds.map(aug, num_parallel_calls=tf.data.AUTOTUNE)\n",
        "    ds = ds.batch(batch).prefetch(tf.data.AUTOTUNE)\n",
        "    return ds\n",
        "\n",
        "train_ds = dataset_for_patients(train_p, batch=16, augment=True, shuffle=True)\n",
        "val_ds   = dataset_for_patients(val_p,   batch=16, augment=False, shuffle=False)\n",
        "test_ds  = dataset_for_patients(test_p,  batch=16, augment=False, shuffle=False)\n"
      ]
    },
    {
      "cell_type": "code",
      "execution_count": null,
      "metadata": {
        "colab": {
          "base_uri": "https://localhost:8080/",
          "height": 1000
        },
        "id": "Z9mX5CkKS3Fc",
        "outputId": "2bcf7893-623c-40ad-f890-f7096c3d4010"
      },
      "outputs": [],
      "source": [
        "from tensorflow.keras.applications import InceptionV3\n",
        "from tensorflow.keras.models import Model\n",
        "from tensorflow.keras.layers import GlobalAveragePooling2D, Dense, Dropout\n",
        "from tensorflow.keras.optimizers import Adam\n",
        "\n",
        "base = InceptionV3(weights=\"imagenet\", include_top=False, input_shape=(299,299,3))\n",
        "for l in base.layers:\n",
        "    l.trainable = False\n",
        "\n",
        "x = GlobalAveragePooling2D()(base.output)\n",
        "x = Dense(512, activation=\"relu\")(x)\n",
        "x = Dropout(0.4)(x)\n",
        "x = Dense(128, activation=\"relu\")(x)\n",
        "x = Dropout(0.3)(x)\n",
        "out = Dense(1, activation=\"sigmoid\")(x)\n",
        "\n",
        "model = Model(inputs=base.input, outputs=out)\n",
        "model.compile(\n",
        "    optimizer=Adam(1e-4),\n",
        "    loss=\"binary_crossentropy\",\n",
        "    metrics=[tf.keras.metrics.BinaryAccuracy(name=\"acc\"), tf.keras.metrics.AUC(name=\"auc\")]\n",
        ")\n",
        "\n",
        "model.summary()\n"
      ]
    },
    {
      "cell_type": "code",
      "execution_count": null,
      "metadata": {
        "id": "qGijapkJd75H"
      },
      "outputs": [],
      "source": [
        "from google.colab import drive\n",
        "drive.mount('/content/drive')"
      ]
    },
    {
      "cell_type": "code",
      "execution_count": null,
      "metadata": {
        "colab": {
          "base_uri": "https://localhost:8080/"
        },
        "id": "2DjY2tYrFZMp",
        "outputId": "efc24afb-cdcc-41ed-eee1-824143d3db57"
      },
      "outputs": [],
      "source": [
        "callbacks = [\n",
        "    tf.keras.callbacks.EarlyStopping(monitor=\"val_auc\", patience=5, mode=\"max\", restore_best_weights=True),\n",
        "    tf.keras.callbacks.ReduceLROnPlateau(monitor=\"val_loss\", factor=0.5, patience=2)\n",
        "]\n",
        "\n",
        "history = model.fit(train_ds, validation_data=val_ds, epochs=4, callbacks=callbacks)\n",
        "\n",
        "# Define the save path in your Google Drive\n",
        "save_path = \"/content/drive/MyDrive/model.h5\"\n",
        "\n",
        "model.save(save_path)\n",
        "print(f\"Model saved to: {save_path}\")"
      ]
    },
    {
      "cell_type": "code",
      "execution_count": null,
      "metadata": {
        "colab": {
          "base_uri": "https://localhost:8080/"
        },
        "id": "dU86RumuF43O",
        "outputId": "c239a8ad-80d0-4796-e1ae-1429d3e81d03"
      },
      "outputs": [],
      "source": [
        "# collect predictions and true labels on test set\n",
        "y_true, y_prob = [], []\n",
        "for x_batch, y_batch in test_ds:\n",
        "    probs = model.predict(x_batch, verbose=0).ravel()\n",
        "    y_prob.append(probs)\n",
        "    y_true.append(y_batch.numpy())\n",
        "y_true = np.concatenate(y_true)\n",
        "y_prob = np.concatenate(y_prob)\n",
        "\n",
        "y_pred = (y_prob >= 0.5).astype(int)\n",
        "print(\"ROC AUC:\", roc_auc_score(y_true, y_prob))\n",
        "print(classification_report(y_true, y_pred, digits=4))\n",
        "print(\"Confusion matrix:\\n\", confusion_matrix(y_true, y_pred))\n"
      ]
    },
    {
      "cell_type": "code",
      "execution_count": null,
      "metadata": {
        "colab": {
          "base_uri": "https://localhost:8080/"
        },
        "id": "qzjEE7BtKz0R",
        "outputId": "1dc27129-50d4-49fa-b268-fd1af5dfe8df"
      },
      "outputs": [],
      "source": [
        "\n",
        "def patient_probs(pid):\n",
        "    flair_path = os.path.join(DATA_DIR, f\"{pid}_FLAIR.nii.gz\")\n",
        "    mask_path  = os.path.join(DATA_DIR, f\"{pid}_Lesion_Mask.nii.gz\")\n",
        "    flair = nib.load(flair_path).get_fdata()\n",
        "    mask  = nib.load(mask_path).get_fdata()\n",
        "    idxs = slice_indices_centered(flair.shape[2], SLICES_PER_PATIENT)\n",
        "    probs = []\n",
        "    for z in idxs:\n",
        "        s = preprocess_slice(flair[:, :, z])\n",
        "        p = float(model.predict(s[None,...], verbose=0)[0,0])\n",
        "        probs.append((z, p, int(np.count_nonzero(mask[:,:,z])>0)))\n",
        "    return probs\n",
        "\n",
        "# Evaluate on test patients\n",
        "scan_y_true, scan_y_prob = [], []\n",
        "for pid in test_p:\n",
        "    probs = patient_probs(pid)\n",
        "    per_slice_probs = [p for (_,p,_) in probs]\n",
        "    scan_prob_max = max(per_slice_probs)\n",
        "    scan_prob_mean = float(np.mean(per_slice_probs))\n",
        "    gt = int(any([lab for (_,_,lab) in probs]))\n",
        "    scan_y_true.append(gt)\n",
        "    scan_y_prob.append(scan_prob_max)   # use max for demo\n",
        "\n",
        "print(\"Scan ROC AUC:\", roc_auc_score(scan_y_true, scan_y_prob))\n",
        "scan_pred = [1 if p>=0.5 else 0 for p in scan_y_prob]\n",
        "print(classification_report(scan_y_true, scan_pred, digits=4))\n",
        "print(\"Confusion matrix (scan-level):\\n\", confusion_matrix(scan_y_true, scan_pred))\n"
      ]
    },
    {
      "cell_type": "code",
      "execution_count": null,
      "metadata": {
        "colab": {
          "base_uri": "https://localhost:8080/",
          "height": 704
        },
        "id": "4Oq3lkYVLHiw",
        "outputId": "fd1d4c0b-dd66-4fd2-cd7b-ff2952c820d6"
      },
      "outputs": [],
      "source": [
        "def show_patient(pid):\n",
        "    probs = patient_probs(pid)\n",
        "    flair_path = os.path.join(DATA_DIR, f\"{pid}_FLAIR.nii.gz\")\n",
        "    mask_path  = os.path.join(DATA_DIR, f\"{pid}_Lesion_Mask.nii.gz\")\n",
        "    flair = nib.load(flair_path).get_fdata()\n",
        "    mask  = nib.load(mask_path).get_fdata()>0\n",
        "    plt.figure(figsize=(15,3))\n",
        "    for i,(z,p,gt) in enumerate(probs):\n",
        "        sl = flair[:,:,z]\n",
        "        plt.subplot(1,len(probs), i+1)\n",
        "        plt.imshow(sl.T, cmap=\"gray\", origin=\"lower\")\n",
        "        if gt:\n",
        "            plt.contour(mask[:,:,z].T, levels=[0.5], colors='r')\n",
        "        plt.title(f\"z={z}\\np={p:.2f}\")\n",
        "        plt.axis(\"off\")\n",
        "    plt.suptitle(f\"Patient {pid} - slice probs\")\n",
        "    plt.show()\n",
        "\n",
        "for pid in test_p[:3]:\n",
        "    show_patient(pid)\n"
      ]
    },
    {
      "cell_type": "code",
      "execution_count": null,
      "metadata": {
        "colab": {
          "base_uri": "https://localhost:8080/"
        },
        "id": "PyIdeEzJLXhN",
        "outputId": "d0007568-569e-4938-e7d8-1a59709170b7"
      },
      "outputs": [],
      "source": [
        "!pip install gradio\n"
      ]
    },
    {
      "cell_type": "code",
      "execution_count": null,
      "metadata": {
        "id": "CHfbbQdNYSfZ"
      },
      "outputs": [],
      "source": []
    },
    {
      "cell_type": "code",
      "execution_count": null,
      "metadata": {
        "colab": {
          "base_uri": "https://localhost:8080/"
        },
        "id": "45d3d707",
        "outputId": "7cdf1a90-ea4f-431e-c255-5948fb99e7f6"
      },
      "outputs": [],
      "source": [
        "import tensorflow as tf\n",
        "\n",
        "# Define the path to your saved model in Google Drive\n",
        "load_path = \"/content/drive/MyDrive/model.h5\"\n",
        "\n",
        "# Load the model\n",
        "model = tf.keras.models.load_model(load_path)\n",
        "\n",
        "# Now you can use the loaded_model for predictions or further training\n",
        "# For example, you can replace the 'model' variable in your Gradio interface cell\n",
        "# with 'loaded_model' to use the loaded model."
      ]
    },
    {
      "cell_type": "code",
      "execution_count": null,
      "metadata": {
        "id": "vag7qXJofT0_"
      },
      "outputs": [],
      "source": [
        "def predict_mri(file):\n",
        "    # Load the MRI file (.nii.gz)\n",
        "    img = nib.load(file.name).get_fdata()\n",
        "    img_slice = img[:, :, img.shape[2] // 2]  # take middle slice\n",
        "\n",
        "    # Preprocess to model input shape\n",
        "    img_resized = np.resize(img_slice, (299, 299, 1)) / np.max(img_slice)\n",
        "    img_batch = np.expand_dims(img_resized, axis=0)\n",
        "\n",
        "    # Run prediction\n",
        "    pred = model.predict(img_batch)[0][0]\n",
        "    label = \"🧠 Lesion Detected\" if pred > 0.5 else \"✅ Normal\"\n",
        "\n",
        "    # Optional: visualize the MRI slice\n",
        "    plt.imshow(img_slice, cmap=\"gray\")\n",
        "    plt.axis(\"off\")\n",
        "    plt.title(label)\n",
        "    plt.show()\n",
        "\n",
        "    return label\n"
      ]
    },
    {
      "cell_type": "code",
      "execution_count": null,
      "metadata": {
        "colab": {
          "base_uri": "https://localhost:8080/",
          "height": 653
        },
        "id": "yknaJiBNfZjO",
        "outputId": "5fe46efd-166e-47b9-fabf-13d530e7669e"
      },
      "outputs": [],
      "source": [
        "demo = gr.Interface(\n",
        "    fn=predict_mri,\n",
        "    inputs=gr.File(label=\"Upload MRI file (.nii.gz)\"),\n",
        "    outputs=gr.Textbox(label=\"Prediction\"),\n",
        "    title=\"MRI Brain Lesion Detection Demo\",\n",
        "    description=\"Upload an MRI scan to test the trained CNN model for MS lesion detection.\"\n",
        ")\n",
        "\n",
        "demo.launch()\n"
      ]
    },
    {
      "cell_type": "code",
      "execution_count": null,
      "metadata": {
        "id": "uqp-D3XWfbFY"
      },
      "outputs": [],
      "source": []
    }
  ],
  "metadata": {
    "accelerator": "GPU",
    "colab": {
      "gpuType": "T4",
      "provenance": []
    },
    "kernelspec": {
      "display_name": "Python 3",
      "name": "python3"
    },
    "language_info": {
      "name": "python"
    }
  },
  "nbformat": 4,
  "nbformat_minor": 0
}
